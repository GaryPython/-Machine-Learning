{
  "nbformat": 4,
  "nbformat_minor": 0,
  "metadata": {
    "colab": {
      "name": "Support_Vector_Machine .ipynb",
      "provenance": [],
      "collapsed_sections": [],
      "toc_visible": true,
      "authorship_tag": "ABX9TyM2NMvG9n8o+CXwtwY2A/+w",
      "include_colab_link": true
    },
    "kernelspec": {
      "name": "python3",
      "display_name": "Python 3"
    },
    "language_info": {
      "name": "python"
    }
  },
  "cells": [
    {
      "cell_type": "markdown",
      "metadata": {
        "id": "view-in-github",
        "colab_type": "text"
      },
      "source": [
        "<a href=\"https://colab.research.google.com/github/GaryPython/-Machine-Learning/blob/main/%E7%9B%A3%E7%9D%A3%E5%AD%B8%E7%BF%92/Support_Vector_Machine_.ipynb\" target=\"_parent\"><img src=\"https://colab.research.google.com/assets/colab-badge.svg\" alt=\"Open In Colab\"/></a>"
      ]
    },
    {
      "cell_type": "markdown",
      "metadata": {
        "id": "agOfMw-QdAYq"
      },
      "source": [
        "#4.&5.支持向量機（Support_Vector_Machine SVM）"
      ]
    },
    {
      "cell_type": "markdown",
      "metadata": {
        "id": "URKDWEJydfjv"
      },
      "source": [
        "\n",
        "\n",
        "*   分類\n",
        "*   回歸\n",
        "\n",
        "\n",
        "> 二元分類問題\n",
        ">\n",
        "> 間距（Margin）最大化\n",
        ">\n",
        ">找出更理想「決策邊界」\n",
        "\n",
        "\n",
        "[隨機生成數據補充](https://scikit-learn.org/stable/auto_examples/datasets/plot_random_dataset.html)"
      ]
    },
    {
      "cell_type": "markdown",
      "metadata": {
        "id": "3fhmVfYBejbS"
      },
      "source": [
        "## 4.線性支持向量機（Liner_Support_Vector_Machine SVM）\n",
        "Liner SVM  VS  Logistic Regression\n",
        "\n"
      ]
    },
    {
      "cell_type": "code",
      "metadata": {
        "colab": {
          "base_uri": "https://localhost:8080/"
        },
        "id": "6w0C0KYudUw3",
        "outputId": "29e24038-229c-4a20-a82e-a6f9d9d99c62"
      },
      "source": [
        "from sklearn.svm import LinearSVC\n",
        "from sklearn.datasets import make_blobs\n",
        "from sklearn.model_selection import train_test_split\n",
        "from sklearn.metrics import accuracy_score\n",
        "\n",
        "\n",
        "\n",
        "centers = [(-1, -0.125), (0.5, 0.5)]\n",
        "#創建以“centers” 為中心的兩「群」點,\n",
        "#「cluster_std」可以調整,數字越大月緊密,也可單獨設定為(1,3)\n",
        "X, y = make_blobs(n_samples=50, n_features=2, centers=centers, cluster_std=0.7)\n",
        "#拆分\n",
        "X_train, X_test, y_train, y_test = train_test_split(X, y, test_size=0.3)\n",
        "model = LinearSVC() \n",
        "model.fit(X_train, y_train) \n",
        "y_pred = model.predict(X_test) \n",
        "accuracy_score(y_test,y_pred) #評估"
      ],
      "execution_count": null,
      "outputs": [
        {
          "output_type": "execute_result",
          "data": {
            "text/plain": [
              "0.9333333333333333"
            ]
          },
          "metadata": {
            "tags": []
          },
          "execution_count": 91
        }
      ]
    },
    {
      "cell_type": "code",
      "metadata": {
        "colab": {
          "base_uri": "https://localhost:8080/",
          "height": 265
        },
        "id": "dkLa1enC1K40",
        "outputId": "2f506267-5332-4a05-91f5-568fa0444040"
      },
      "source": [
        "from matplotlib import pyplot\n",
        "pyplot.scatter(X[:, 0], X[:, 1], c=y)\n",
        "pyplot.show()"
      ],
      "execution_count": null,
      "outputs": [
        {
          "output_type": "display_data",
          "data": {
            "image/png": "[encoded data removed]",
            "text/plain": [
              "<Figure size 432x288 with 1 Axes>"
            ]
          },
          "metadata": {
            "tags": [],
            "needs_background": "light"
          }
        }
      ]
    },
    {
      "cell_type": "markdown",
      "metadata": {
        "id": "ia01hmJ94zgj"
      },
      "source": [
        "###拆分"
      ]
    },
    {
      "cell_type": "code",
      "metadata": {
        "colab": {
          "base_uri": "https://localhost:8080/"
        },
        "id": "xAb4JtEeq7V5",
        "outputId": "6feec905-60e2-417c-9a5b-63d5eee4ef21"
      },
      "source": [
        "centers"
      ],
      "execution_count": null,
      "outputs": [
        {
          "output_type": "execute_result",
          "data": {
            "text/plain": [
              "[(-1, -0.125), (0.5, 0.5)]"
            ]
          },
          "metadata": {
            "tags": []
          },
          "execution_count": 2
        }
      ]
    },
    {
      "cell_type": "code",
      "metadata": {
        "colab": {
          "base_uri": "https://localhost:8080/"
        },
        "id": "n4dech_y1k8J",
        "outputId": "475ecc44-0724-4de4-8a4a-f7598a6aae96"
      },
      "source": [
        "X"
      ],
      "execution_count": null,
      "outputs": [
        {
          "output_type": "execute_result",
          "data": {
            "text/plain": [
              "array([[-1.27676141e+00, -5.41784789e-02],\n",
              "       [-9.26513534e-01, -2.29678849e-03],\n",
              "       [-7.24919905e-01, -1.69590986e-02],\n",
              "       [ 6.24179266e-01,  8.54653359e-02],\n",
              "       [-1.03706280e+00, -3.95458495e-01],\n",
              "       [ 6.28973948e-01,  3.63347543e-01],\n",
              "       [ 4.82832311e-01, -1.71347087e-01],\n",
              "       [ 7.46275793e-01,  7.35070271e-03],\n",
              "       [ 8.54991877e-01,  2.95254735e-01],\n",
              "       [-8.69524727e-02,  4.58353431e-01],\n",
              "       [ 1.00964770e+00,  4.88213828e-01],\n",
              "       [-2.15520848e-01, -1.98547979e-02],\n",
              "       [ 6.22602110e-01,  2.48001782e-01],\n",
              "       [ 4.58742320e-01, -3.01532305e-02],\n",
              "       [ 2.60258624e-01, -3.35559526e-01],\n",
              "       [ 1.19900063e-02,  1.75287595e-01],\n",
              "       [ 4.11696890e-01, -6.64270318e-01],\n",
              "       [-9.87578198e-01,  4.14075246e-01],\n",
              "       [ 1.65927647e-01, -2.01983207e-01],\n",
              "       [-5.50353521e-01, -2.83739283e-01],\n",
              "       [-4.74826960e-01,  8.95492770e-02],\n",
              "       [ 3.49371850e-01,  1.80799331e-01],\n",
              "       [-8.47929326e-01, -1.55463023e-01],\n",
              "       [ 7.11736700e-01,  2.26033236e-01],\n",
              "       [-1.49952859e-01,  1.14978310e-01],\n",
              "       [ 4.40288122e-01,  2.20683498e-01],\n",
              "       [ 1.76299221e-01,  2.63908906e-01],\n",
              "       [-3.80239640e-01, -4.77643280e-01],\n",
              "       [ 8.07217513e-02,  5.71707267e-01],\n",
              "       [-1.06431194e-02,  8.83202698e-02],\n",
              "       [ 9.29049545e-01,  5.09326569e-01],\n",
              "       [ 2.21548429e-01,  3.89204485e-01],\n",
              "       [ 5.18805515e-01,  3.73031935e-01],\n",
              "       [-4.45203167e-01,  3.66718761e-01],\n",
              "       [-4.04980096e-01, -1.05087423e+00],\n",
              "       [-3.14068808e-01, -3.80598095e-01],\n",
              "       [-4.61990928e-01, -5.89103012e-01],\n",
              "       [ 3.58580179e-01, -2.73458345e-02],\n",
              "       [-6.90813603e-02,  1.67452685e-01],\n",
              "       [-8.74843787e-01,  1.75336740e-01],\n",
              "       [ 2.97389058e-01,  1.31001878e-01],\n",
              "       [ 6.60222958e-05,  5.31604149e-01],\n",
              "       [ 2.32288768e-01,  2.93225100e-01],\n",
              "       [-5.30984612e-01, -4.04507167e-01],\n",
              "       [-9.04654476e-01, -2.82148245e-01],\n",
              "       [-8.65397014e-01, -4.53990846e-01],\n",
              "       [ 1.17472029e+00,  4.00405509e-01],\n",
              "       [-1.32518281e+00, -8.10469760e-02],\n",
              "       [ 1.17916397e+00,  8.24542439e-01],\n",
              "       [-7.00540902e-01,  5.86021620e-02]])"
            ]
          },
          "metadata": {
            "tags": []
          },
          "execution_count": 28
        }
      ]
    },
    {
      "cell_type": "code",
      "metadata": {
        "colab": {
          "base_uri": "https://localhost:8080/"
        },
        "id": "Nmb-FCFJrA3x",
        "outputId": "54304729-6882-48b6-8f70-d10a9aa81cef"
      },
      "source": [
        "print(X_train,len(X_train))\n",
        "\n",
        "print(y_train,len(y_train))"
      ],
      "execution_count": null,
      "outputs": [
        {
          "output_type": "stream",
          "text": [
            "[[-1.02356355 -0.57100006]\n",
            " [-0.89597747  0.2540575 ]\n",
            " [ 0.44718404  0.54051604]\n",
            " [-1.38591699 -0.04100335]\n",
            " [-1.04879785 -0.6895004 ]\n",
            " [-0.40628048  0.70318139]\n",
            " [ 0.80553596  0.85881253]\n",
            " [-0.54137205 -0.5459176 ]\n",
            " [-0.82602159 -0.01722282]\n",
            " [ 0.22267181  0.08986653]\n",
            " [-1.07898109 -0.36597272]\n",
            " [-1.60316856 -0.60311157]\n",
            " [-1.21086261 -0.13073441]\n",
            " [-0.85631218  0.38762991]\n",
            " [ 0.301844    0.5452322 ]\n",
            " [ 0.91481805  0.88909034]\n",
            " [ 0.57343494  0.38853929]\n",
            " [ 0.54821088  0.68039454]\n",
            " [-0.87885822 -0.12840073]\n",
            " [-1.0458585   0.2273159 ]\n",
            " [ 1.56426936  0.1546495 ]\n",
            " [ 0.7649329   0.33140721]\n",
            " [ 0.88639434  0.88353816]\n",
            " [ 0.49292654  0.47262233]\n",
            " [ 0.75224683  0.60968083]\n",
            " [ 0.39738369  0.44107687]\n",
            " [ 0.48578557  0.55635046]\n",
            " [-0.26986326  0.4200167 ]\n",
            " [-0.82392292 -0.08533558]\n",
            " [-1.13526316  0.64006809]\n",
            " [-1.19917829  0.06138443]\n",
            " [-0.63395174 -0.34574245]\n",
            " [-0.99327352 -0.22090239]\n",
            " [-0.15119281  0.65958931]\n",
            " [ 0.54538236  1.38247369]] 35\n",
            "[0 0 1 0 0 1 1 0 0 1 0 0 0 0 1 1 1 1 0 0 1 1 1 1 1 1 1 1 0 0 0 0 0 1 1] 35\n"
          ],
          "name": "stdout"
        }
      ]
    },
    {
      "cell_type": "code",
      "metadata": {
        "colab": {
          "base_uri": "https://localhost:8080/"
        },
        "id": "fdmSeZpSrFV6",
        "outputId": "8fa579ca-9e04-40c2-f5fb-d28df593b996"
      },
      "source": [
        "print(X_test,len(X_test))\n",
        "print(y_test,len(y_test))"
      ],
      "execution_count": null,
      "outputs": [
        {
          "output_type": "stream",
          "text": [
            "[[ 8.73466872e-01  1.12887082e-01]\n",
            " [-8.09621244e-01  5.32745171e-02]\n",
            " [-9.37664461e-01 -2.00766062e-01]\n",
            " [-1.53235350e+00  2.10826921e-01]\n",
            " [-5.93895379e-01 -8.83972872e-04]\n",
            " [ 1.04684433e+00  5.23685027e-01]\n",
            " [-1.66044746e+00 -6.75941388e-01]\n",
            " [ 7.95832853e-01  7.18526447e-01]\n",
            " [ 9.09844398e-01  1.76163400e-01]\n",
            " [-1.29878345e+00 -2.64010779e-01]\n",
            " [-9.66308782e-01 -2.30556859e-01]\n",
            " [ 9.35152252e-01  3.95466378e-01]\n",
            " [ 5.85074012e-01  4.08879291e-01]\n",
            " [ 7.12707542e-01  5.24430949e-01]\n",
            " [-1.16036224e+00 -1.02635756e-01]] 15\n",
            "[1 0 0 0 0 1 0 1 1 0 0 1 1 1 0] 15\n"
          ],
          "name": "stdout"
        }
      ]
    },
    {
      "cell_type": "code",
      "metadata": {
        "id": "MSosObd7rOn6"
      },
      "source": [
        ""
      ],
      "execution_count": null,
      "outputs": []
    },
    {
      "cell_type": "markdown",
      "metadata": {
        "id": "pyMAs3pb6MSW"
      },
      "source": [
        "##train_test_split\n",
        "原始的資料：就如同上方的 data 一般，是我們打算切成 Training data 以及 Test \n",
        "\n",
        "data 的原始資料\n",
        "\n",
        "Seed： 亂數種子，可以固定我們切割資料的結果\n",
        "\n",
        "比例：可以設定 train_size 或 test_size，只要設定一邊即可，範圍在 [0-1] 之間"
      ]
    },
    {
      "cell_type": "code",
      "metadata": {
        "colab": {
          "base_uri": "https://localhost:8080/"
        },
        "id": "ahlnM_Tf6T_V",
        "outputId": "ca5d0553-8d56-468c-b546-7aa7a4e47493"
      },
      "source": [
        "from sklearn.model_selection import train_test_split\n",
        "data = [n for n in range(1, 11)]\n",
        "print(data)\n",
        "label = [\"a\",\"b\",\"c\",\"d\",\"e\",\"f\",\"g\",\"h\",\"i\",\"j\"]\n",
        "train_data, test_data,train_label,test_label = train_test_split(data,label, random_state=777, train_size=0.8)\n",
        "print(train_data)\n",
        "print(test_data)\n",
        "print(train_label)\n",
        "print(test_label)"
      ],
      "execution_count": null,
      "outputs": [
        {
          "output_type": "stream",
          "text": [
            "[1, 2, 3, 4, 5, 6, 7, 8, 9, 10]\n",
            "[9, 4, 5, 6, 2, 10, 7, 8]\n",
            "[3, 1]\n",
            "['i', 'd', 'e', 'f', 'b', 'j', 'g', 'h']\n",
            "['c', 'a']\n"
          ],
          "name": "stdout"
        }
      ]
    },
    {
      "cell_type": "markdown",
      "metadata": {
        "id": "NzH2rmFZvGN8"
      },
      "source": [
        "##5.支持向量機（kernel）"
      ]
    },
    {
      "cell_type": "code",
      "metadata": {
        "colab": {
          "base_uri": "https://localhost:8080/"
        },
        "id": "Ur8rqhmK6kSB",
        "outputId": "f018b172-17e0-4981-95b7-efdc5856d93c"
      },
      "source": [
        "from sklearn.svm import SVC\n",
        "from sklearn.datasets import make_gaussian_quantiles\n",
        "from sklearn.model_selection import train_test_split\n",
        "from sklearn.metrics import accuracy_score\n",
        "\n",
        "\n",
        "X, y = make_gaussian_quantiles(n_features=2, n_classes=2, n_samples=300)\n",
        "X_train, X_test, y_train, y_test = train_test_split(X, y, test_size=0.3)\n",
        "model = SVC()\n",
        "model.fit(X_train, y_train)\n",
        "y_pred = model.predict(X_test)\n",
        "accuracy_score(y_pred, y_test)"
      ],
      "execution_count": null,
      "outputs": [
        {
          "output_type": "execute_result",
          "data": {
            "text/plain": [
              "0.9444444444444444"
            ]
          },
          "metadata": {
            "tags": []
          },
          "execution_count": 14
        }
      ]
    },
    {
      "cell_type": "code",
      "metadata": {
        "colab": {
          "base_uri": "https://localhost:8080/",
          "height": 265
        },
        "id": "QwRKZRJA3ps7",
        "outputId": "a14eed5e-bbb8-4703-95dd-0888b8b6da94"
      },
      "source": [
        "from matplotlib import pyplot\n",
        "pyplot.scatter(X[:, 0], X[:, 1], c=y)\n",
        "pyplot.show()"
      ],
      "execution_count": null,
      "outputs": [
        {
          "output_type": "display_data",
          "data": {
            "image/png": "[encoded data removed]",
            "text/plain": [
              "<Figure size 432x288 with 1 Axes>"
            ]
          },
          "metadata": {
            "tags": [],
            "needs_background": "light"
          }
        }
      ]
    }
  ]
}