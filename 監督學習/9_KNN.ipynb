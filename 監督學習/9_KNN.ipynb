{
  "nbformat": 4,
  "nbformat_minor": 0,
  "metadata": {
    "colab": {
      "name": "9.KNN.ipynb",
      "provenance": [],
      "collapsed_sections": [],
      "authorship_tag": "ABX9TyN1I9kvequILE9wmP+ygx6S",
      "include_colab_link": true
    },
    "kernelspec": {
      "name": "python3",
      "display_name": "Python 3"
    },
    "language_info": {
      "name": "python"
    }
  },
  "cells": [
    {
      "cell_type": "markdown",
      "metadata": {
        "id": "view-in-github",
        "colab_type": "text"
      },
      "source": [
        "<a href=\"https://colab.research.google.com/github/GaryPython/-Machine-Learning/blob/main/%E7%9B%A3%E7%9D%A3%E5%AD%B8%E7%BF%92/9_KNN.ipynb\" target=\"_parent\"><img src=\"https://colab.research.google.com/assets/colab-badge.svg\" alt=\"Open In Colab\"/></a>"
      ]
    },
    {
      "cell_type": "markdown",
      "metadata": {
        "id": "lxB2gCltQOdu"
      },
      "source": [
        "#KNN"
      ]
    },
    {
      "cell_type": "markdown",
      "metadata": {
        "id": "JOGOadAkQ-Ei"
      },
      "source": [
        "\n",
        "\n",
        "*   分類\n",
        "*   回歸\n",
        "\n",
        "\n",
        "\n",
        "1.   計算輸入資料與訓練資料之間的距離\n",
        "2.   以最接近輸入資料的位置為起點，取得Ｋ個訓練資料（Ｋ通常以基數為主）\n",
        "3.   根據訓練資料的標籤數量，以多數決方式決定分類結果\n",
        "\n",
        "    \n",
        "    缺點：\n",
        "    1.因為儲存所有資料，故不適合處理龐大資料\n",
        "    2.不適合處理高維度的資料\n",
        "\n",
        "補充：\n",
        "\n",
        "[make_circles和make_moons](https://blog.csdn.net/YangWei_19/article/details/79945746)\n",
        "\n",
        "[選擇Ｋ值](https://yanwei-liu.medium.com/python%E6%A9%9F%E5%99%A8%E5%AD%B8%E7%BF%92%E7%AD%86%E8%A8%98-%E4%BA%94-%E4%BD%BF%E7%94%A8scikit-learn%E9%80%B2%E8%A1%8Ck-nearest%E6%BC%94%E7%AE%97%E6%B3%95-1191ea94ecaf)\n"
      ]
    },
    {
      "cell_type": "code",
      "metadata": {
        "colab": {
          "base_uri": "https://localhost:8080/"
        },
        "id": "tCP6kolFQQ7R",
        "outputId": "c88e2bb6-ff6a-41bf-d77f-198fc0d2bbd2"
      },
      "source": [
        "from sklearn.neighbors import KNeighborsClassifier\n",
        "from sklearn.datasets import make_moons\n",
        "from sklearn.model_selection import train_test_split\n",
        "from sklearn.metrics import accuracy_score\n",
        "\n",
        "\n",
        "#產生數據\n",
        "X, y = make_moons(noise=0.3)\n",
        "X_train, X_test, y_train, y_test = train_test_split(X, y, test_size=0.3)\n",
        "model = KNeighborsClassifier() \n",
        "model.fit(X_train, y_train) \n",
        "y_pred = model.predict(X_test) \n",
        "accuracy_score(y_pred, y_test) "
      ],
      "execution_count": null,
      "outputs": [
        {
          "output_type": "execute_result",
          "data": {
            "text/plain": [
              "0.8333333333333334"
            ]
          },
          "metadata": {
            "tags": []
          },
          "execution_count": 36
        }
      ]
    },
    {
      "cell_type": "code",
      "metadata": {
        "colab": {
          "base_uri": "https://localhost:8080/"
        },
        "id": "krEgwyPWSau1",
        "outputId": "6a08e8d4-b0dc-45a7-f7d6-b69c35f6236d"
      },
      "source": [
        "Ｘ"
      ],
      "execution_count": null,
      "outputs": [
        {
          "output_type": "execute_result",
          "data": {
            "text/plain": [
              "array([[ 2.00452508,  0.85543589],\n",
              "       [ 0.98696747,  0.11788972],\n",
              "       [-0.38393887,  0.77688709],\n",
              "       [ 0.02205484, -0.09608196],\n",
              "       [-1.11543964,  0.20584778],\n",
              "       [ 0.03897072, -0.94435161],\n",
              "       [ 0.7500666 , -0.23771858],\n",
              "       [ 0.56687043,  0.90750648],\n",
              "       [ 2.09583381,  0.36402029],\n",
              "       [-1.20884786,  1.47164152],\n",
              "       [-0.41572043,  0.57457721],\n",
              "       [ 1.25457901,  0.83891521],\n",
              "       [ 1.22888948,  0.30133915],\n",
              "       [ 1.02582182, -0.73051853],\n",
              "       [ 0.03247959,  0.82655345],\n",
              "       [ 1.93975977,  0.15495277],\n",
              "       [ 0.33006989, -0.73220873],\n",
              "       [-0.16839343,  0.97421001],\n",
              "       [ 1.52910436, -0.46028304],\n",
              "       [-0.59838073,  0.55997425],\n",
              "       [ 1.5824522 , -0.46380335],\n",
              "       [-0.96276367,  0.45367317],\n",
              "       [ 0.31825451,  0.98061335],\n",
              "       [-0.2338725 ,  0.14160631],\n",
              "       [ 1.60685993,  0.36371543],\n",
              "       [ 1.04012188,  0.57837833],\n",
              "       [-0.46999553,  0.44527262],\n",
              "       [ 1.02016983, -0.09888061],\n",
              "       [ 1.59602582, -0.03849132],\n",
              "       [ 0.76389469, -0.59430448],\n",
              "       [ 0.58533013,  0.7990843 ],\n",
              "       [ 1.01695444,  0.9164976 ],\n",
              "       [-0.40423294,  0.37181224],\n",
              "       [-0.43667932,  0.60950555],\n",
              "       [ 0.2265569 ,  0.47556229],\n",
              "       [ 0.73163049, -1.11489673],\n",
              "       [-0.04425517,  0.46008715],\n",
              "       [-0.60206316,  0.8696182 ],\n",
              "       [ 0.22535995, -0.72116327],\n",
              "       [-0.31036629,  0.14062428],\n",
              "       [ 1.75996801, -0.30920555],\n",
              "       [-1.21023558,  0.64916161],\n",
              "       [ 0.96779805,  0.18045986],\n",
              "       [ 0.67569034, -0.01059205],\n",
              "       [ 1.59635186, -0.32718775],\n",
              "       [-0.94270152,  0.84671108],\n",
              "       [ 0.38069597, -0.51136865],\n",
              "       [ 0.87523177,  0.73419585],\n",
              "       [ 0.13805128,  0.47158364],\n",
              "       [ 0.23192399, -0.78814612],\n",
              "       [-0.77981615,  0.17384324],\n",
              "       [-0.32125194,  0.47912223],\n",
              "       [-0.0166183 ,  0.2915326 ],\n",
              "       [-0.16554071,  0.64717556],\n",
              "       [ 1.64432222, -0.09329243],\n",
              "       [ 2.44286002,  0.17937283],\n",
              "       [ 0.88799595, -0.44641843],\n",
              "       [-0.88797123,  0.35259988],\n",
              "       [ 0.47146773,  0.30791336],\n",
              "       [ 1.70332587, -0.18668406],\n",
              "       [ 0.52533774,  0.05449015],\n",
              "       [-0.07210351,  0.56952139],\n",
              "       [ 0.79676203,  0.32341873],\n",
              "       [ 0.08347734,  1.11114244],\n",
              "       [-0.37772498,  1.00454705],\n",
              "       [-0.25894932,  0.40754765],\n",
              "       [-0.8719932 , -0.01072924],\n",
              "       [ 1.58230565, -0.10556356],\n",
              "       [ 0.07174007,  0.90787706],\n",
              "       [ 1.47281705,  0.08564836],\n",
              "       [ 0.5361457 ,  1.37591258],\n",
              "       [ 1.66305278, -0.84791278],\n",
              "       [ 0.35779734,  0.30019754],\n",
              "       [ 1.11692064,  0.38120756],\n",
              "       [-1.28803007,  0.01712332],\n",
              "       [ 0.61981051,  1.05717981],\n",
              "       [ 1.73007223,  0.32700514],\n",
              "       [-1.27957489,  0.1499016 ],\n",
              "       [-0.83649836,  1.09618771],\n",
              "       [-0.45218496,  0.59984497],\n",
              "       [ 1.41007112,  0.03492364],\n",
              "       [ 0.50172166, -0.62135481],\n",
              "       [ 0.56794162, -0.87433141],\n",
              "       [ 1.62729757,  0.61420667],\n",
              "       [ 1.20839203, -0.12182887],\n",
              "       [ 0.15331792,  0.00446279],\n",
              "       [-1.0081427 ,  1.08270348],\n",
              "       [ 1.64974808,  0.45633701],\n",
              "       [ 0.31040779,  0.27123465],\n",
              "       [ 0.71939937,  0.35346902],\n",
              "       [ 0.6741312 ,  0.54405886],\n",
              "       [ 1.74593286, -0.093016  ],\n",
              "       [ 1.33638882, -0.10495063],\n",
              "       [ 0.40493193,  0.3469791 ],\n",
              "       [ 1.17370204, -0.25474237],\n",
              "       [ 1.7665824 , -0.22721588],\n",
              "       [ 0.68216809, -0.50303089],\n",
              "       [-0.92186675,  0.13759501],\n",
              "       [ 0.09646593,  0.33915641],\n",
              "       [ 0.0620646 ,  1.05944204]])"
            ]
          },
          "metadata": {
            "tags": []
          },
          "execution_count": 37
        }
      ]
    },
    {
      "cell_type": "code",
      "metadata": {
        "colab": {
          "base_uri": "https://localhost:8080/"
        },
        "id": "nu-jc6erSf31",
        "outputId": "5d441b33-440e-4f65-e129-1ae843c9aeb7"
      },
      "source": [
        "y"
      ],
      "execution_count": null,
      "outputs": [
        {
          "output_type": "execute_result",
          "data": {
            "text/plain": [
              "array([1, 1, 0, 1, 0, 1, 1, 0, 1, 0, 0, 0, 0, 1, 0, 1, 1, 0, 1, 0, 1, 0,\n",
              "       0, 1, 1, 0, 0, 0, 1, 1, 0, 0, 0, 0, 1, 1, 1, 0, 1, 1, 1, 0, 0, 1,\n",
              "       1, 0, 1, 0, 0, 1, 0, 1, 1, 0, 1, 1, 0, 0, 0, 1, 0, 1, 0, 0, 0, 0,\n",
              "       0, 1, 0, 1, 0, 1, 1, 0, 0, 0, 1, 0, 0, 0, 1, 1, 1, 1, 1, 1, 0, 1,\n",
              "       1, 0, 0, 1, 1, 1, 1, 1, 1, 0, 0, 0])"
            ]
          },
          "metadata": {
            "tags": []
          },
          "execution_count": 38
        }
      ]
    },
    {
      "cell_type": "code",
      "metadata": {
        "colab": {
          "base_uri": "https://localhost:8080/",
          "height": 265
        },
        "id": "uSag-Ms3SisN",
        "outputId": "420f5be9-5723-4d7b-c4cb-f43c6f84ba20"
      },
      "source": [
        "from matplotlib import pyplot\n",
        "pyplot.scatter(X[:, 0], X[:, 1], c=y)\n",
        "pyplot.show()"
      ],
      "execution_count": null,
      "outputs": [
        {
          "output_type": "display_data",
          "data": {
            "image/png": "[encoded data removed]",
            "text/plain": [
              "<Figure size 432x288 with 1 Axes>"
            ]
          },
          "metadata": {
            "tags": [],
            "needs_background": "light"
          }
        }
      ]
    },
    {
      "cell_type": "code",
      "metadata": {
        "id": "Uvnne0k1S5al"
      },
      "source": [
        ""
      ],
      "execution_count": null,
      "outputs": []
    }
  ]
}