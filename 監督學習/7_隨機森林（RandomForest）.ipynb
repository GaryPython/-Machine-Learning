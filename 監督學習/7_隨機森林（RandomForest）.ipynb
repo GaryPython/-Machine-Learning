{
  "nbformat": 4,
  "nbformat_minor": 0,
  "metadata": {
    "colab": {
      "name": "7.隨機森林（RandomForest）.ipynb",
      "provenance": [],
      "collapsed_sections": [],
      "authorship_tag": "ABX9TyPTwy16iMH9dfyw/l8hMq6F",
      "include_colab_link": true
    },
    "kernelspec": {
      "name": "python3",
      "display_name": "Python 3"
    },
    "language_info": {
      "name": "python"
    }
  },
  "cells": [
    {
      "cell_type": "markdown",
      "metadata": {
        "id": "view-in-github",
        "colab_type": "text"
      },
      "source": [
        "<a href=\"https://colab.research.google.com/github/GaryPython/-Machine-Learning/blob/main/%E7%9B%A3%E7%9D%A3%E5%AD%B8%E7%BF%92/7_%E9%9A%A8%E6%A9%9F%E6%A3%AE%E6%9E%97%EF%BC%88RandomForest%EF%BC%89.ipynb\" target=\"_parent\"><img src=\"https://colab.research.google.com/assets/colab-badge.svg\" alt=\"Open In Colab\"/></a>"
      ]
    },
    {
      "cell_type": "markdown",
      "metadata": {
        "id": "ducRxch_9HoU"
      },
      "source": [
        "#隨機森林（RandomForest）"
      ]
    },
    {
      "cell_type": "markdown",
      "metadata": {
        "id": "J-VBdr7795QM"
      },
      "source": [
        "\n",
        "\n",
        "*   回歸\n",
        "*   分類\n",
        "*   結合多種模型已建立更高效能模型方法\n",
        ">使用多顆決策樹，單比一決策樹更精確的方法\n",
        "*   相同類型的演算法（Gradient Boosting 梯度增強）  \n",
        "\n",
        "\n"
      ]
    },
    {
      "cell_type": "code",
      "metadata": {
        "colab": {
          "base_uri": "https://localhost:8080/"
        },
        "id": "11uQHyop8OOQ",
        "outputId": "9dc78d81-f812-4b09-f2d9-6c7a7a98777c"
      },
      "source": [
        "from sklearn.datasets import load_wine\n",
        "from sklearn.ensemble import RandomForestClassifier\n",
        "from sklearn.model_selection import train_test_split\n",
        "from sklearn.metrics import accuracy_score\n",
        "\n",
        "\n",
        "data = load_wine()\n",
        "X_train, X_test, y_train, y_test = train_test_split(data.data, data.target, test_size=0.3)\n",
        "model = RandomForestClassifier() \n",
        "model.fit(X_train, y_train) \n",
        "y_pred = model.predict(X_test) \n",
        "accuracy_score(y_pred, y_test) "
      ],
      "execution_count": null,
      "outputs": [
        {
          "output_type": "stream",
          "text": [
            "1.0\n"
          ],
          "name": "stdout"
        }
      ]
    },
    {
      "cell_type": "markdown",
      "metadata": {
        "id": "6hmZNqZEJtln"
      },
      "source": [
        "##補充\n",
        "[機器學習中特徵選擇](https://iter01.com/480015.html)\n",
        "\n",
        "[語言實作 RandomForests](https://datascience.wenyichu.com/docs/machine-learning-using-python/random-forests/randomforests-in-python/)\n",
        "\n",
        "[classification_report＆confusion_matrix](https://www.cnblogs.com/178mz/p/8558435.html)"
      ]
    },
    {
      "cell_type": "code",
      "metadata": {
        "colab": {
          "base_uri": "https://localhost:8080/"
        },
        "id": "ekk6dMM1FPsx",
        "outputId": "d78d60e8-482b-4c9f-e8f7-54ad82c32f10"
      },
      "source": [
        "from sklearn.datasets import load_wine\n",
        "from sklearn.ensemble import RandomForestClassifier\n",
        "from sklearn.model_selection import train_test_split\n",
        "from sklearn.metrics import accuracy_score\n",
        "import time\n",
        "from sklearn.metrics import confusion_matrix\n",
        "from sklearn.metrics import classification_report\n",
        "\n",
        "start = time.process_time()\n",
        "data = load_wine()\n",
        "X_train, X_test, y_train, y_test = train_test_split(data.data, data.target, test_size=0.3)\n",
        "model = RandomForestClassifier() \n",
        "print(time.process_time() - start) #花費時間\n",
        "model.fit(X_train, y_train) # 学習\n",
        "y_pred = model.predict(X_test) \n",
        "print(confusion_matrix(y_test,y_pred))\n",
        "print(classification_report(y_test,y_pred))\n",
        "print(accuracy_score(y_pred, y_test)) # 評価"
      ],
      "execution_count": null,
      "outputs": [
        {
          "output_type": "stream",
          "text": [
            "0.0064232749999995065\n",
            "[[18  0  0]\n",
            " [ 0 21  0]\n",
            " [ 0  0 15]]\n",
            "              precision    recall  f1-score   support\n",
            "\n",
            "           0       1.00      1.00      1.00        18\n",
            "           1       1.00      1.00      1.00        21\n",
            "           2       1.00      1.00      1.00        15\n",
            "\n",
            "    accuracy                           1.00        54\n",
            "   macro avg       1.00      1.00      1.00        54\n",
            "weighted avg       1.00      1.00      1.00        54\n",
            "\n",
            "1.0\n"
          ],
          "name": "stdout"
        }
      ]
    },
    {
      "cell_type": "code",
      "metadata": {
        "colab": {
          "base_uri": "https://localhost:8080/",
          "height": 283
        },
        "id": "lE7Q-N8aFPC1",
        "outputId": "a046093c-a719-4f80-bcc0-fd060546a1da"
      },
      "source": [
        "import matplotlib.pyplot as plt\n",
        "import pandas as pd\n",
        "feat_importances = pd.Series(model.feature_importances_, index= data.feature_names)\n",
        "feat_importances.nlargest(13).plot(kind='barh')"
      ],
      "execution_count": null,
      "outputs": [
        {
          "output_type": "execute_result",
          "data": {
            "text/plain": [
              "<matplotlib.axes._subplots.AxesSubplot at 0x7ff2e48f1110>"
            ]
          },
          "metadata": {
            "tags": []
          },
          "execution_count": 38
        },
        {
          "output_type": "display_data",
          "data": {
            "image/png": "[encoded data removed]",
            "text/plain": [
              "<Figure size 432x288 with 1 Axes>"
            ]
          },
          "metadata": {
            "tags": [],
            "needs_background": "light"
          }
        }
      ]
    },
    {
      "cell_type": "code",
      "metadata": {
        "colab": {
          "base_uri": "https://localhost:8080/"
        },
        "id": "9oJ7BLtPJXmQ",
        "outputId": "e2de6044-4618-4d0e-bc1b-c7986e75e3a7"
      },
      "source": [
        "feat_importances\n"
      ],
      "execution_count": null,
      "outputs": [
        {
          "output_type": "execute_result",
          "data": {
            "text/plain": [
              "alcohol                         0.134325\n",
              "malic_acid                      0.025238\n",
              "ash                             0.024473\n",
              "alcalinity_of_ash               0.016571\n",
              "magnesium                       0.024125\n",
              "total_phenols                   0.057537\n",
              "flavanoids                      0.165770\n",
              "nonflavanoid_phenols            0.010217\n",
              "proanthocyanins                 0.030250\n",
              "color_intensity                 0.153310\n",
              "hue                             0.068500\n",
              "od280/od315_of_diluted_wines    0.116313\n",
              "proline                         0.173372\n",
              "dtype: float64"
            ]
          },
          "metadata": {
            "tags": []
          },
          "execution_count": 41
        }
      ]
    },
    {
      "cell_type": "code",
      "metadata": {
        "colab": {
          "base_uri": "https://localhost:8080/"
        },
        "id": "2mQgFUXADmrn",
        "outputId": "d9467bec-9255-451c-cda8-2a02a8a819b0"
      },
      "source": [
        "data.feature_names"
      ],
      "execution_count": null,
      "outputs": [
        {
          "output_type": "execute_result",
          "data": {
            "text/plain": [
              "['alcohol',\n",
              " 'malic_acid',\n",
              " 'ash',\n",
              " 'alcalinity_of_ash',\n",
              " 'magnesium',\n",
              " 'total_phenols',\n",
              " 'flavanoids',\n",
              " 'nonflavanoid_phenols',\n",
              " 'proanthocyanins',\n",
              " 'color_intensity',\n",
              " 'hue',\n",
              " 'od280/od315_of_diluted_wines',\n",
              " 'proline']"
            ]
          },
          "metadata": {
            "tags": []
          },
          "execution_count": 19
        }
      ]
    },
    {
      "cell_type": "code",
      "metadata": {
        "id": "RH_BWn2PEDog"
      },
      "source": [
        ""
      ],
      "execution_count": null,
      "outputs": []
    }
  ]
}