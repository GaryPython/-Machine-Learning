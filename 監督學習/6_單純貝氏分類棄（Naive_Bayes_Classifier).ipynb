{
  "nbformat": 4,
  "nbformat_minor": 0,
  "metadata": {
    "colab": {
      "name": "6.單純貝氏分類棄（Naive Bayes Classifier） .ipynb",
      "provenance": [],
      "collapsed_sections": [],
      "authorship_tag": "ABX9TyMFNSgAtB/fhfUCxjDuM0WT",
      "include_colab_link": true
    },
    "kernelspec": {
      "name": "python3",
      "display_name": "Python 3"
    },
    "language_info": {
      "name": "python"
    }
  },
  "cells": [
    {
      "cell_type": "markdown",
      "metadata": {
        "id": "view-in-github",
        "colab_type": "text"
      },
      "source": [
        "<a href=\"https://colab.research.google.com/github/GaryPython/-Machine-Learning/blob/main/%E7%9B%A3%E7%9D%A3%E5%AD%B8%E7%BF%92/6_%E5%96%AE%E7%B4%94%E8%B2%9D%E6%B0%8F%E5%88%86%E9%A1%9E%E6%A3%84%EF%BC%88Naive_Bayes_Classifier).ipynb\" target=\"_parent\"><img src=\"https://colab.research.google.com/assets/colab-badge.svg\" alt=\"Open In Colab\"/></a>"
      ]
    },
    {
      "cell_type": "markdown",
      "metadata": {
        "id": "TelQlA5a4oz_"
      },
      "source": [
        "#單純貝氏分類棄（Naive Bayes Classifier） "
      ]
    },
    {
      "cell_type": "markdown",
      "metadata": {
        "id": "9RJJSdsf5qdG"
      },
      "source": [
        "\n",
        "\n",
        "*   機率進行預測\n",
        "*   常用於「自然語言分類問題」->垃圾信件問題\n",
        "*   假設為「獨立存在」的機率事件 \n",
        "\n",
        "    不適用於：天氣預報降雨機率、文章的詞彙會因為上下文而有所不同\n"
      ]
    },
    {
      "cell_type": "code",
      "metadata": {
        "colab": {
          "base_uri": "https://localhost:8080/"
        },
        "id": "6D9M-OLe3eXd",
        "outputId": "6d4f49fd-a61a-4073-b522-069c5af04255"
      },
      "source": [
        "from sklearn.naive_bayes import MultinomialNB\n",
        "\n",
        "#建立特徵\n",
        "X_train = [[1, 1, 0, 0, 0, 0, 0, 0, 0, 0, 0],\n",
        "[0, 1, 1, 1, 0, 0, 0, 0, 0, 0, 0],\n",
        "[1, 0, 0, 0, 1, 1, 0, 0, 0, 0, 0],\n",
        "[0, 0, 0, 0, 0, 0, 1, 1, 0, 0, 0],\n",
        "[0, 0, 0, 0, 0, 0, 0, 1, 1, 1, 0],\n",
        "[0, 0, 0, 0, 0, 1, 0, 1, 1, 0, 1]]\n",
        "#電影或信件\n",
        "y_train = [1, 1, 1, 0, 0, 0]\n",
        "#訓練模型\n",
        "model = MultinomialNB()\n",
        "model.fit(X_train, y_train)\n",
        "#預測\n",
        "model.predict([[0, 1, 0, 1, 0, 1, 0, 0, 0, 0, 0]]) # 評価\n",
        "#結果：電影"
      ],
      "execution_count": null,
      "outputs": [
        {
          "output_type": "execute_result",
          "data": {
            "text/plain": [
              "array([1])"
            ]
          },
          "metadata": {
            "tags": []
          },
          "execution_count": 16
        }
      ]
    }
  ]
}