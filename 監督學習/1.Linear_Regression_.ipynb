{
  "nbformat": 4,
  "nbformat_minor": 0,
  "metadata": {
    "colab": {
      "name": "Linear Regression .ipynb",
      "provenance": [],
      "collapsed_sections": [],
      "authorship_tag": "ABX9TyNYjvvlOe+5HXTjzqrxCMSY",
      "include_colab_link": true
    },
    "kernelspec": {
      "name": "python3",
      "display_name": "Python 3"
    },
    "language_info": {
      "name": "python"
    }
  },
  "cells": [
    {
      "cell_type": "markdown",
      "metadata": {
        "id": "view-in-github",
        "colab_type": "text"
      },
      "source": [
        "<a href=\"https://colab.research.google.com/github/GaryPython/-Machine-Learning/blob/main/%E7%9B%A3%E7%9D%A3%E5%AD%B8%E7%BF%92/Linear_Regression_.ipynb\" target=\"_parent\"><img src=\"https://colab.research.google.com/assets/colab-badge.svg\" alt=\"Open In Colab\"/></a>"
      ]
    },
    {
      "cell_type": "markdown",
      "metadata": {
        "id": "vov0waWWlVvI"
      },
      "source": [
        "#1.Linear Regression \n"
      ]
    },
    {
      "cell_type": "markdown",
      "metadata": {
        "id": "ssPm6urFlg1-"
      },
      "source": [
        "簡單線性回歸（Simple_Linear_Regression）\n",
        ">只有1個解釋變數\n",
        "\n",
        "複回歸（Multiple_Regression）\n",
        ">2個以上的解釋變數\n",
        "\n",
        "多項式回歸（Polynomial_Regression）\n",
        ">1個解釋變數,但為x的n次方\n",
        "\n",
        "\n",
        "\n",
        "|  <font size=3>線性回歸種類</font> </font><img width=100/>  | <font size=3>方程式範例</font> </font><img width=100/>  | \n",
        "|  :---- | :---- |\n",
        "|簡單回歸      |y = w0 + w1x1|\n",
        "|複回歸      |y = w0 + w1x1 + w2x2|\n",
        "|多元回歸      |y = w0 + w1x1 + w2x1^2|\n",
        "\n",
        "\n",
        "    不適用例子\n",
        "    1.資料呈現曲線\n",
        "    2.出現離群值（須先排除＆不受離群值分析法）\n",
        "    3.資料兩倆無相關聯\n"
      ]
    },
    {
      "cell_type": "code",
      "metadata": {
        "colab": {
          "base_uri": "https://localhost:8080/"
        },
        "id": "07gJOBS8k-s0",
        "outputId": "45571ff6-559b-456a-bbd5-5d6ad9144d23"
      },
      "source": [
        "from sklearn.linear_model import LinearRegression\n",
        "\n",
        "\n",
        "X = [[10.0], [8.0], [13.0], [9.0], [11.0], [14.0], [6.0], [4.0], [12.0], [7.0], [5.0]]\n",
        "y = [8.04, 6.95, 7.58, 8.81, 8.33, 9.96, 7.24, 4.26, 10.84, 4.82, 5.68]\n",
        "model = LinearRegression()\n",
        "model.fit(X, y) \n",
        "print(model.intercept_) # 截距 \n",
        "print(model.coef_) # 斜率\n",
        "y_pred = model.predict([[0], [1]]) \n",
        "print(y_pred) # x=0, x=1預測結果"
      ],
      "execution_count": null,
      "outputs": [
        {
          "output_type": "stream",
          "text": [
            "3.0000909090909094\n",
            "[0.50009091]\n",
            "[3.00009091 3.50018182]\n"
          ],
          "name": "stdout"
        }
      ]
    }
  ]
}
