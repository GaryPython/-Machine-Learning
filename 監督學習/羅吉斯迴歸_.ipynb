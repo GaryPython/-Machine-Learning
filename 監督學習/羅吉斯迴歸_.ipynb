{
  "nbformat": 4,
  "nbformat_minor": 0,
  "metadata": {
    "colab": {
      "name": "羅吉斯迴歸 .ipynb",
      "provenance": [],
      "collapsed_sections": [
        "o0wc-fli0V4r"
      ],
      "authorship_tag": "ABX9TyMSK3yzmU+RBDJEzhLwPqR7",
      "include_colab_link": true
    },
    "kernelspec": {
      "name": "python3",
      "display_name": "Python 3"
    },
    "language_info": {
      "name": "python"
    }
  },
  "cells": [
    {
      "cell_type": "markdown",
      "metadata": {
        "id": "view-in-github",
        "colab_type": "text"
      },
      "source": [
        "<a href=\"https://colab.research.google.com/github/GaryPython/-Machine-Learning/blob/main/%E7%9B%A3%E7%9D%A3%E5%AD%B8%E7%BF%92/%E7%BE%85%E5%90%89%E6%96%AF%E8%BF%B4%E6%AD%B8_.ipynb\" target=\"_parent\"><img src=\"https://colab.research.google.com/assets/colab-badge.svg\" alt=\"Open In Colab\"/></a>"
      ]
    },
    {
      "cell_type": "markdown",
      "metadata": {
        "id": "o0wc-fli0V4r"
      },
      "source": [
        "#3.羅吉斯迴歸"
      ]
    },
    {
      "cell_type": "markdown",
      "metadata": {
        "id": "BPRjofO80fI5"
      },
      "source": [
        "- 分類：計算各類別機率\n",
        "- 某現象發生機率\n",
        "\n",
        "\n",
        "> 會發生/不會發生：二元分\n",
        ">\n",
        ">（三種以上也可以）\n",
        ">> 通常以50%作為閾值（Threshold）       \n",
        ">> 50%以上為1;50%以下為0\n",
        ">> \n",
        ">>梯度下降、近似解\n",
        "\n",
        "    決策邊界"
      ]
    },
    {
      "cell_type": "code",
      "metadata": {
        "colab": {
          "base_uri": "https://localhost:8080/"
        },
        "id": "axuNlCEf0epA",
        "outputId": "cf05851b-8cc3-4db2-fe6b-254c7beef2be"
      },
      "source": [
        "import numpy as np\n",
        "from sklearn.linear_model import LogisticRegression\n",
        "'''\n",
        "為了找出 0℃ 1℃ 2℃ 的融雪機率\n",
        "需找設定 3℃ 與 -1℃ 的值\n",
        "然後分類成 0 與 1\n",
        "'''\n",
        "X_train = np.r_[np.random.normal(3, 1, size=50), np.random.normal(-1, 1, size=50)].reshape((100, -1))#-1為自動計算補值\n",
        "y_train = np.r_[np.ones(50), np.zeros(50)]\n",
        "model = LogisticRegression()\n",
        "model.fit(X_train, y_train)\n",
        "model.predict_proba([[0], [1], [2]])[:, 1]\n",
        "#融雪機率"
      ],
      "execution_count": null,
      "outputs": [
        {
          "output_type": "execute_result",
          "data": {
            "text/plain": [
              "array([0.08397971, 0.50096964, 0.9166151 ])"
            ]
          },
          "metadata": {
            "tags": []
          },
          "execution_count": 22
        }
      ]
    },
    {
      "cell_type": "code",
      "metadata": {
        "colab": {
          "base_uri": "https://localhost:8080/"
        },
        "id": "CSsJLrT5Curk",
        "outputId": "4b6c4755-efe9-428e-facf-023e50a79338"
      },
      "source": [
        "#[0,1] & [3:1,1:0]\n",
        "model.predict_proba([[0], [1], [2]])"
      ],
      "execution_count": null,
      "outputs": [
        {
          "output_type": "execute_result",
          "data": {
            "text/plain": [
              "array([[0.91602029, 0.08397971],\n",
              "       [0.49903036, 0.50096964],\n",
              "       [0.0833849 , 0.9166151 ]])"
            ]
          },
          "metadata": {
            "tags": []
          },
          "execution_count": 23
        }
      ]
    },
    {
      "cell_type": "markdown",
      "metadata": {
        "id": "EqVn7oDEbuYe"
      },
      "source": [
        "##np.c_ & np.r_ 補充"
      ]
    },
    {
      "cell_type": "code",
      "metadata": {
        "colab": {
          "base_uri": "https://localhost:8080/"
        },
        "id": "LaieYwfCbdIS",
        "outputId": "a29a26a3-a667-491f-a103-5b409678c0c7"
      },
      "source": [
        "import numpy as np\n",
        "a = np.array([1, 2, 3])\n",
        "b = np.array([4, 5, 6])\n",
        "c = np.c_[a,b]#並排\n",
        "\n",
        "print(np.r_[a,b])#串連\n",
        "print(c)\n",
        "print(np.c_[c,a])"
      ],
      "execution_count": null,
      "outputs": [
        {
          "output_type": "stream",
          "text": [
            "[1 2 3 4 5 6]\n",
            "[[1 4]\n",
            " [2 5]\n",
            " [3 6]]\n",
            "[[1 4 1]\n",
            " [2 5 2]\n",
            " [3 6 3]]\n"
          ],
          "name": "stdout"
        }
      ]
    },
    {
      "cell_type": "markdown",
      "metadata": {
        "id": "3h3MTvn3bV2L"
      },
      "source": [
        "##圖示"
      ]
    },
    {
      "cell_type": "code",
      "metadata": {
        "colab": {
          "base_uri": "https://localhost:8080/",
          "height": 283
        },
        "id": "W6J_O-SsCauI",
        "outputId": "83f73b91-24ba-4e6a-f023-c0ba9fadda88"
      },
      "source": [
        "import matplotlib.pyplot as plt\n",
        "plt.scatter(X_train, y_train, alpha=0.6)"
      ],
      "execution_count": null,
      "outputs": [
        {
          "output_type": "execute_result",
          "data": {
            "text/plain": [
              "<matplotlib.collections.PathCollection at 0x7fb039131910>"
            ]
          },
          "metadata": {
            "tags": []
          },
          "execution_count": 24
        },
        {
          "output_type": "display_data",
          "data": {
            "image/png": "[encoded data removed]",
            "text/plain": [
              "<Figure size 432x288 with 1 Axes>"
            ]
          },
          "metadata": {
            "tags": [],
            "needs_background": "light"
          }
        }
      ]
    },
    {
      "cell_type": "code",
      "metadata": {
        "id": "NrdCp06qabgB"
      },
      "source": [
        ""
      ],
      "execution_count": null,
      "outputs": []
    },
    {
      "cell_type": "code",
      "metadata": {
        "id": "Gh8AhEwhcBM7"
      },
      "source": [
        ""
      ],
      "execution_count": null,
      "outputs": []
    }
  ]
}