{
  "nbformat": 4,
  "nbformat_minor": 0,
  "metadata": {
    "colab": {
      "name": "Regularization .ipynb",
      "provenance": [],
      "collapsed_sections": [],
      "authorship_tag": "ABX9TyPVlclMMmNaxOgUHlvNdxve",
      "include_colab_link": true
    },
    "kernelspec": {
      "name": "python3",
      "display_name": "Python 3"
    },
    "language_info": {
      "name": "python"
    }
  },
  "cells": [
    {
      "cell_type": "markdown",
      "metadata": {
        "id": "view-in-github",
        "colab_type": "text"
      },
      "source": [
        "<a href=\"https://colab.research.google.com/github/GaryPython/-Machine-Learning/blob/main/%E7%9B%A3%E7%9D%A3%E5%AD%B8%E7%BF%92/Regularization_.ipynb\" target=\"_parent\"><img src=\"https://colab.research.google.com/assets/colab-badge.svg\" alt=\"Open In Colab\"/></a>"
      ]
    },
    {
      "cell_type": "markdown",
      "metadata": {
        "id": "7jlbg_G-0MkQ"
      },
      "source": [
        "#2.正則化（Regularization）"
      ]
    },
    {
      "cell_type": "markdown",
      "metadata": {
        "id": "z11legkqrPt-"
      },
      "source": [
        "\n",
        "\n",
        "- 防止過度擬合\n",
        "- 常與「線性回歸」合併使用\n",
        "- 損失函數＋懲罰項，提升一般化能力（Generalization Ability）\n",
        "\n",
        "＊過度擬合＊\n",
        "\n",
        "”測試“資料誤差 > ”訓練“資料誤差 \n",
        "\n",
        "機器學習模型太過於複雜，「正則化」可降低模型複雜性\n",
        "\n",
        "提升模型”一般化“能力\n",
        "\n",
        "###補充:\n",
        "[Ridge VS Lasso 回歸](https://kknews.cc/zh-tw/code/leekrqz.html)"
      ]
    },
    {
      "cell_type": "code",
      "metadata": {
        "colab": {
          "base_uri": "https://localhost:8080/"
        },
        "id": "b8Azv-VRj_vf",
        "outputId": "513d6bff-9d28-44c2-c95e-8db49f96dff7"
      },
      "source": [
        "import numpy as np\n",
        "from sklearn.preprocessing import PolynomialFeatures#生成特徵\n",
        "from sklearn.linear_model import Ridge#脊回歸\n",
        "from sklearn.metrics import mean_squared_error#平均回歸誤差https://zhuanlan.zhihu.com/p/37663120\n",
        "\n",
        "#建立data\n",
        "train_size = 20\n",
        "test_size = 12\n",
        "train_X = np.random.uniform(low=0, high=1.2, size=train_size)\n",
        "test_X = np.random.uniform(low=0.1, high=1.3, size=test_size)\n",
        "train_y = np.sin(train_X * 2 * np.pi) + np.random.normal(0, 0.2, train_size)\n",
        "test_y = np.sin(test_X * 2 * np.pi) + np.random.normal(0, 0.2, test_size)\n",
        "#設定特徵構造\n",
        "#生成6次方成式\n",
        "poly = PolynomialFeatures(6) # 次方數\n",
        "train_poly_X = poly.fit_transform(train_X.reshape(train_size, 1))#分成train_size（20）組，每組1個\n",
        "test_poly_X = poly.fit_transform(test_X.reshape(test_size, 1))#分成test_size（12）組，每組1個\n",
        "#正則化-Ridge\n",
        "model = Ridge(alpha=1.0)\n",
        "model.fit(train_poly_X, train_y)\n",
        "train_pred_y = model.predict(train_poly_X)\n",
        "test_pred_y = model.predict(test_poly_X)\n",
        "#平均回歸誤差\n",
        "print(mean_squared_error(train_pred_y, train_y))\n",
        "print(mean_squared_error(test_pred_y, test_y))"
      ],
      "execution_count": null,
      "outputs": [
        {
          "output_type": "stream",
          "text": [
            "0.16793095778218814\n",
            "0.32192484002576177\n"
          ],
          "name": "stdout"
        }
      ]
    },
    {
      "cell_type": "markdown",
      "metadata": {
        "id": "CLvuaoi4iZdg"
      },
      "source": [
        "##拆解"
      ]
    },
    {
      "cell_type": "code",
      "metadata": {
        "colab": {
          "base_uri": "https://localhost:8080/"
        },
        "id": "jFLyp8rmzs4x",
        "outputId": "55dd8ccf-959c-435e-d4e4-eeb41bd24b6f"
      },
      "source": [
        "train_X"
      ],
      "execution_count": null,
      "outputs": [
        {
          "output_type": "execute_result",
          "data": {
            "text/plain": [
              "array([0.75266066, 0.44478805, 0.51856363, 0.47255812, 0.77200116,\n",
              "       0.6396347 , 1.0519313 , 0.70581185, 0.96655712, 0.48890105,\n",
              "       1.05309235, 0.46678465, 0.73896734, 0.88795908, 0.06772984,\n",
              "       0.46074455, 0.49482833, 0.61155026, 0.82364238, 0.88474475])"
            ]
          },
          "metadata": {
            "tags": []
          },
          "execution_count": 43
        }
      ]
    },
    {
      "cell_type": "code",
      "metadata": {
        "colab": {
          "base_uri": "https://localhost:8080/"
        },
        "id": "T0Yg50Osz1ur",
        "outputId": "ed8acc18-0877-42da-db4e-56f04507c229"
      },
      "source": [
        "train_y"
      ],
      "execution_count": null,
      "outputs": [
        {
          "output_type": "execute_result",
          "data": {
            "text/plain": [
              "array([-0.75500267,  0.08344515,  0.34639247,  0.33049673, -1.03657418,\n",
              "       -0.94572124,  0.17592603, -0.9961691 , -0.20713618,  0.26782461,\n",
              "        0.51484855,  0.18229533, -1.23071075, -0.8248873 ,  0.39323944,\n",
              "        0.22966223,  0.19742135, -0.59532632, -0.74466451, -0.79319591])"
            ]
          },
          "metadata": {
            "tags": []
          },
          "execution_count": 44
        }
      ]
    },
    {
      "cell_type": "code",
      "metadata": {
        "colab": {
          "base_uri": "https://localhost:8080/"
        },
        "id": "MNRPMseDeloR",
        "outputId": "aaba37a2-2c7a-4416-f098-16fb721a3c95"
      },
      "source": [
        "train_X.reshape(train_size, 1)"
      ],
      "execution_count": null,
      "outputs": [
        {
          "output_type": "execute_result",
          "data": {
            "text/plain": [
              "array([[0.75266066],\n",
              "       [0.44478805],\n",
              "       [0.51856363],\n",
              "       [0.47255812],\n",
              "       [0.77200116],\n",
              "       [0.6396347 ],\n",
              "       [1.0519313 ],\n",
              "       [0.70581185],\n",
              "       [0.96655712],\n",
              "       [0.48890105],\n",
              "       [1.05309235],\n",
              "       [0.46678465],\n",
              "       [0.73896734],\n",
              "       [0.88795908],\n",
              "       [0.06772984],\n",
              "       [0.46074455],\n",
              "       [0.49482833],\n",
              "       [0.61155026],\n",
              "       [0.82364238],\n",
              "       [0.88474475]])"
            ]
          },
          "metadata": {
            "tags": []
          },
          "execution_count": 45
        }
      ]
    },
    {
      "cell_type": "code",
      "metadata": {
        "colab": {
          "base_uri": "https://localhost:8080/"
        },
        "id": "1a1fPpTBz6Ca",
        "outputId": "5e356699-c98f-44f8-ce56-0130064e63e3"
      },
      "source": [
        "train_poly_X"
      ],
      "execution_count": null,
      "outputs": [
        {
          "output_type": "execute_result",
          "data": {
            "text/plain": [
              "array([[1.00000000e+00, 7.52660659e-01, 5.66498067e-01, 4.26380808e-01,\n",
              "        3.20920060e-01, 2.41543904e-01, 1.81800594e-01],\n",
              "       [1.00000000e+00, 4.44788053e-01, 1.97836412e-01, 8.79952725e-02,\n",
              "        3.91392459e-02, 1.74086690e-02, 7.74316798e-03],\n",
              "       [1.00000000e+00, 5.18563625e-01, 2.68908233e-01, 1.39446028e-01,\n",
              "        7.23116379e-02, 3.74981851e-02, 1.94451948e-02],\n",
              "       [1.00000000e+00, 4.72558123e-01, 2.23311180e-01, 1.05527512e-01,\n",
              "        4.98678829e-02, 2.35654732e-02, 1.11360558e-02],\n",
              "       [1.00000000e+00, 7.72001161e-01, 5.95985792e-01, 4.60101723e-01,\n",
              "        3.55199064e-01, 2.74214090e-01, 2.11693596e-01],\n",
              "       [1.00000000e+00, 6.39634701e-01, 4.09132551e-01, 2.61695377e-01,\n",
              "        1.67389444e-01, 1.07068097e-01, 6.84844701e-02],\n",
              "       [1.00000000e+00, 1.05193130e+00, 1.10655946e+00, 1.16402454e+00,\n",
              "        1.22447385e+00, 1.28806237e+00, 1.35495312e+00],\n",
              "       [1.00000000e+00, 7.05811851e-01, 4.98170369e-01, 3.51614550e-01,\n",
              "        2.48173716e-01, 1.75163950e-01, 1.23632792e-01],\n",
              "       [1.00000000e+00, 9.66557119e-01, 9.34232664e-01, 9.02989233e-01,\n",
              "        8.72790671e-01, 8.43602037e-01, 8.15389554e-01],\n",
              "       [1.00000000e+00, 4.88901047e-01, 2.39024234e-01, 1.16859198e-01,\n",
              "        5.71325842e-02, 2.79321802e-02, 1.36560722e-02],\n",
              "       [1.00000000e+00, 1.05309235e+00, 1.10900349e+00, 1.16788309e+00,\n",
              "        1.22988874e+00, 1.29518642e+00, 1.36395091e+00],\n",
              "       [1.00000000e+00, 4.66784652e-01, 2.17887911e-01, 1.01706733e-01,\n",
              "        4.74751418e-02, 2.21606675e-02, 1.03442595e-02],\n",
              "       [1.00000000e+00, 7.38967341e-01, 5.46072731e-01, 4.03529914e-01,\n",
              "        2.98195427e-01, 2.20356682e-01, 1.62836391e-01],\n",
              "       [1.00000000e+00, 8.87959078e-01, 7.88471323e-01, 7.00130269e-01,\n",
              "        6.21687028e-01, 5.52032640e-01, 4.90182394e-01],\n",
              "       [1.00000000e+00, 6.77298433e-02, 4.58733168e-03, 3.10699256e-04,\n",
              "        2.10436119e-05, 1.42528054e-06, 9.65340275e-08],\n",
              "       [1.00000000e+00, 4.60744550e-01, 2.12285540e-01, 9.78094055e-02,\n",
              "        4.50651505e-02, 2.07635225e-02, 9.56667980e-03],\n",
              "       [1.00000000e+00, 4.94828332e-01, 2.44855078e-01, 1.21161230e-01,\n",
              "        5.99540093e-02, 2.96669424e-02, 1.46800436e-02],\n",
              "       [1.00000000e+00, 6.11550263e-01, 3.73993724e-01, 2.28715960e-01,\n",
              "        1.39871306e-01, 8.55383337e-02, 5.23109904e-02],\n",
              "       [1.00000000e+00, 8.23642380e-01, 6.78386770e-01, 5.58748094e-01,\n",
              "        4.60208610e-01, 3.79047315e-01, 3.12199433e-01],\n",
              "       [1.00000000e+00, 8.84744745e-01, 7.82773265e-01, 6.92554533e-01,\n",
              "        6.12733984e-01, 5.42113172e-01, 4.79631781e-01]])"
            ]
          },
          "metadata": {
            "tags": []
          },
          "execution_count": 46
        }
      ]
    },
    {
      "cell_type": "code",
      "metadata": {
        "colab": {
          "base_uri": "https://localhost:8080/"
        },
        "id": "geBlA9ebfB2S",
        "outputId": "93014f82-784f-48c2-ae55-6da233159b71"
      },
      "source": [
        "train_poly_X[0]"
      ],
      "execution_count": null,
      "outputs": [
        {
          "output_type": "execute_result",
          "data": {
            "text/plain": [
              "array([1.        , 0.75266066, 0.56649807, 0.42638081, 0.32092006,\n",
              "       0.2415439 , 0.18180059])"
            ]
          },
          "metadata": {
            "tags": []
          },
          "execution_count": 47
        }
      ]
    },
    {
      "cell_type": "code",
      "metadata": {
        "colab": {
          "base_uri": "https://localhost:8080/"
        },
        "id": "Fv4cPgSY0JxE",
        "outputId": "b5d36ff1-8c58-4f3c-91f7-10a9b2cd3aac"
      },
      "source": [
        "poly"
      ],
      "execution_count": null,
      "outputs": [
        {
          "output_type": "execute_result",
          "data": {
            "text/plain": [
              "PolynomialFeatures(degree=2, include_bias=True, interaction_only=False,\n",
              "                   order='C')"
            ]
          },
          "metadata": {
            "tags": []
          },
          "execution_count": 26
        }
      ]
    },
    {
      "cell_type": "code",
      "metadata": {
        "id": "nEluQ8vCeCHi"
      },
      "source": [
        ""
      ],
      "execution_count": null,
      "outputs": []
    },
    {
      "cell_type": "markdown",
      "metadata": {
        "id": "fgaQ-0Erk5Nw"
      },
      "source": [
        "##簡單例子"
      ]
    },
    {
      "cell_type": "code",
      "metadata": {
        "id": "mv47Zcr7lOP1"
      },
      "source": [
        "import numpy as np\n",
        "import pandas as pd\n"
      ],
      "execution_count": null,
      "outputs": []
    },
    {
      "cell_type": "markdown",
      "metadata": {
        "id": "-IzUbERBp3Gb"
      },
      "source": [
        "###1個變數,6次方,6組數據\n",
        "#x = [0,1,2,3,4,5]\n",
        "\n",
        "\n",
        "|<font size=3>x</font> </font><img width=50/>|  <font size=3>x^0</font> </font><img width=50/>  | <font size=3>x^1</font> </font><img width=50/>| <font size=3>x^2</font> </font><img width=50/>      |<font size=3>x^3</font> </font><img width=50/>|<font size=3>x^4</font> </font><img width=50/>|<font size=3>x^5</font> </font><img width=50/>|<font size=3>x^6</font> </font><img width=50/>|\n",
        "| ---| :---- | :---- | :---- | :---- |:---- |---|---|\n",
        "|0| 1|0|0|0|0|0|0|\n",
        "|1| 1|1|1|1|1|1|1|\n",
        "|2| 1|2|4|8|16|32|64|\n",
        "|3| 1|3|9|27|81|243|729|\n",
        "|4| 1|4|16|64|256|1024|4096|\n",
        "|5| 1|5|25|125|625|3125|15625|"
      ]
    },
    {
      "cell_type": "code",
      "metadata": {
        "colab": {
          "base_uri": "https://localhost:8080/"
        },
        "id": "ZJAxwNPLk8TJ",
        "outputId": "2c811b21-814c-4ea6-a19a-ad2c497c1c7d"
      },
      "source": [
        "#6組數據,1個變數\n",
        "x = np.arange(6).reshape(6,1)\n",
        "x"
      ],
      "execution_count": null,
      "outputs": [
        {
          "output_type": "execute_result",
          "data": {
            "text/plain": [
              "array([[0],\n",
              "       [1],\n",
              "       [2],\n",
              "       [3],\n",
              "       [4],\n",
              "       [5]])"
            ]
          },
          "metadata": {
            "tags": []
          },
          "execution_count": 49
        }
      ]
    },
    {
      "cell_type": "code",
      "metadata": {
        "colab": {
          "base_uri": "https://localhost:8080/"
        },
        "id": "z_P1VFKVlR8u",
        "outputId": "794e2b98-ab0b-4a0f-f36a-f62213ff9db5"
      },
      "source": [
        "#6次方數\n",
        "poly = PolynomialFeatures(6) \n",
        "x_poly = poly.fit_transform(x)\n",
        "x_poly"
      ],
      "execution_count": null,
      "outputs": [
        {
          "output_type": "execute_result",
          "data": {
            "text/plain": [
              "array([[1.0000e+00, 0.0000e+00, 0.0000e+00, 0.0000e+00, 0.0000e+00,\n",
              "        0.0000e+00, 0.0000e+00],\n",
              "       [1.0000e+00, 1.0000e+00, 1.0000e+00, 1.0000e+00, 1.0000e+00,\n",
              "        1.0000e+00, 1.0000e+00],\n",
              "       [1.0000e+00, 2.0000e+00, 4.0000e+00, 8.0000e+00, 1.6000e+01,\n",
              "        3.2000e+01, 6.4000e+01],\n",
              "       [1.0000e+00, 3.0000e+00, 9.0000e+00, 2.7000e+01, 8.1000e+01,\n",
              "        2.4300e+02, 7.2900e+02],\n",
              "       [1.0000e+00, 4.0000e+00, 1.6000e+01, 6.4000e+01, 2.5600e+02,\n",
              "        1.0240e+03, 4.0960e+03],\n",
              "       [1.0000e+00, 5.0000e+00, 2.5000e+01, 1.2500e+02, 6.2500e+02,\n",
              "        3.1250e+03, 1.5625e+04]])"
            ]
          },
          "metadata": {
            "tags": []
          },
          "execution_count": 51
        }
      ]
    },
    {
      "cell_type": "code",
      "metadata": {
        "colab": {
          "base_uri": "https://localhost:8080/",
          "height": 228
        },
        "id": "kFbw5cFGlsyV",
        "outputId": "671ef251-b25d-4116-e24e-17b03cdc2656"
      },
      "source": [
        "pd.DataFrame(x_poly)"
      ],
      "execution_count": null,
      "outputs": [
        {
          "output_type": "execute_result",
          "data": {
            "text/html": [
              "<div>\n",
              "<style scoped>\n",
              "    .dataframe tbody tr th:only-of-type {\n",
              "        vertical-align: middle;\n",
              "    }\n",
              "\n",
              "    .dataframe tbody tr th {\n",
              "        vertical-align: top;\n",
              "    }\n",
              "\n",
              "    .dataframe thead th {\n",
              "        text-align: right;\n",
              "    }\n",
              "</style>\n",
              "<table border=\"1\" class=\"dataframe\">\n",
              "  <thead>\n",
              "    <tr style=\"text-align: right;\">\n",
              "      <th></th>\n",
              "      <th>0</th>\n",
              "      <th>1</th>\n",
              "      <th>2</th>\n",
              "      <th>3</th>\n",
              "      <th>4</th>\n",
              "      <th>5</th>\n",
              "      <th>6</th>\n",
              "    </tr>\n",
              "  </thead>\n",
              "  <tbody>\n",
              "    <tr>\n",
              "      <th>0</th>\n",
              "      <td>1.0</td>\n",
              "      <td>0.0</td>\n",
              "      <td>0.0</td>\n",
              "      <td>0.0</td>\n",
              "      <td>0.0</td>\n",
              "      <td>0.0</td>\n",
              "      <td>0.0</td>\n",
              "    </tr>\n",
              "    <tr>\n",
              "      <th>1</th>\n",
              "      <td>1.0</td>\n",
              "      <td>1.0</td>\n",
              "      <td>1.0</td>\n",
              "      <td>1.0</td>\n",
              "      <td>1.0</td>\n",
              "      <td>1.0</td>\n",
              "      <td>1.0</td>\n",
              "    </tr>\n",
              "    <tr>\n",
              "      <th>2</th>\n",
              "      <td>1.0</td>\n",
              "      <td>2.0</td>\n",
              "      <td>4.0</td>\n",
              "      <td>8.0</td>\n",
              "      <td>16.0</td>\n",
              "      <td>32.0</td>\n",
              "      <td>64.0</td>\n",
              "    </tr>\n",
              "    <tr>\n",
              "      <th>3</th>\n",
              "      <td>1.0</td>\n",
              "      <td>3.0</td>\n",
              "      <td>9.0</td>\n",
              "      <td>27.0</td>\n",
              "      <td>81.0</td>\n",
              "      <td>243.0</td>\n",
              "      <td>729.0</td>\n",
              "    </tr>\n",
              "    <tr>\n",
              "      <th>4</th>\n",
              "      <td>1.0</td>\n",
              "      <td>4.0</td>\n",
              "      <td>16.0</td>\n",
              "      <td>64.0</td>\n",
              "      <td>256.0</td>\n",
              "      <td>1024.0</td>\n",
              "      <td>4096.0</td>\n",
              "    </tr>\n",
              "    <tr>\n",
              "      <th>5</th>\n",
              "      <td>1.0</td>\n",
              "      <td>5.0</td>\n",
              "      <td>25.0</td>\n",
              "      <td>125.0</td>\n",
              "      <td>625.0</td>\n",
              "      <td>3125.0</td>\n",
              "      <td>15625.0</td>\n",
              "    </tr>\n",
              "  </tbody>\n",
              "</table>\n",
              "</div>"
            ],
            "text/plain": [
              "     0    1     2      3      4       5        6\n",
              "0  1.0  0.0   0.0    0.0    0.0     0.0      0.0\n",
              "1  1.0  1.0   1.0    1.0    1.0     1.0      1.0\n",
              "2  1.0  2.0   4.0    8.0   16.0    32.0     64.0\n",
              "3  1.0  3.0   9.0   27.0   81.0   243.0    729.0\n",
              "4  1.0  4.0  16.0   64.0  256.0  1024.0   4096.0\n",
              "5  1.0  5.0  25.0  125.0  625.0  3125.0  15625.0"
            ]
          },
          "metadata": {
            "tags": []
          },
          "execution_count": 54
        }
      ]
    },
    {
      "cell_type": "markdown",
      "metadata": {
        "id": "ypaZpbxdp6d7"
      },
      "source": [
        "###2個變數,2次方,3組數據\n",
        "#x = [[0,1],  [2,3],  [4,5]]\n",
        "\n",
        "\n",
        "|x^0|<font size=3>x</font> </font><img width=50/>|  <font size=3>y</font> </font><img width=50/>|<font size=3>x^2</font> </font><img width=50/>  | <font size=3>x*y</font> </font><img width=50/>| <font size=3>y^2</font> </font><img width=50/>      |\n",
        "|---| ---| :---- | :---- | :---- | :---- |\n",
        "|1|0| 1|0|0|1|\n",
        "|1|2| 3|4|6|9|\n",
        "|1|4| 5|16|20|25|\n"
      ]
    },
    {
      "cell_type": "code",
      "metadata": {
        "colab": {
          "base_uri": "https://localhost:8080/"
        },
        "id": "uJeYhKBJlkjF",
        "outputId": "7ca7ccf1-308e-4859-e789-b1b64f37bee8"
      },
      "source": [
        "##3組數據,2個變數\n",
        "x = np.arange(6).reshape(3,2)\n",
        "x"
      ],
      "execution_count": null,
      "outputs": [
        {
          "output_type": "execute_result",
          "data": {
            "text/plain": [
              "array([[0, 1],\n",
              "       [2, 3],\n",
              "       [4, 5]])"
            ]
          },
          "metadata": {
            "tags": []
          },
          "execution_count": 64
        }
      ]
    },
    {
      "cell_type": "code",
      "metadata": {
        "colab": {
          "base_uri": "https://localhost:8080/"
        },
        "id": "gBUbULeQlj1K",
        "outputId": "503bad84-564a-408b-c892-81c176beb2c1"
      },
      "source": [
        "poly = PolynomialFeatures(2) # 次方數\n",
        "x_poly = poly.fit_transform(x)\n",
        "x_poly"
      ],
      "execution_count": null,
      "outputs": [
        {
          "output_type": "execute_result",
          "data": {
            "text/plain": [
              "array([[ 1.,  0.,  1.,  0.,  0.,  1.],\n",
              "       [ 1.,  2.,  3.,  4.,  6.,  9.],\n",
              "       [ 1.,  4.,  5., 16., 20., 25.]])"
            ]
          },
          "metadata": {
            "tags": []
          },
          "execution_count": 61
        }
      ]
    },
    {
      "cell_type": "code",
      "metadata": {
        "colab": {
          "base_uri": "https://localhost:8080/",
          "height": 138
        },
        "id": "8yvcwhZ_qQB4",
        "outputId": "9149e90c-9110-4781-ae1a-ce0f60308708"
      },
      "source": [
        "pd.DataFrame(x_poly)"
      ],
      "execution_count": null,
      "outputs": [
        {
          "output_type": "execute_result",
          "data": {
            "text/html": [
              "<div>\n",
              "<style scoped>\n",
              "    .dataframe tbody tr th:only-of-type {\n",
              "        vertical-align: middle;\n",
              "    }\n",
              "\n",
              "    .dataframe tbody tr th {\n",
              "        vertical-align: top;\n",
              "    }\n",
              "\n",
              "    .dataframe thead th {\n",
              "        text-align: right;\n",
              "    }\n",
              "</style>\n",
              "<table border=\"1\" class=\"dataframe\">\n",
              "  <thead>\n",
              "    <tr style=\"text-align: right;\">\n",
              "      <th></th>\n",
              "      <th>0</th>\n",
              "      <th>1</th>\n",
              "      <th>2</th>\n",
              "      <th>3</th>\n",
              "      <th>4</th>\n",
              "      <th>5</th>\n",
              "    </tr>\n",
              "  </thead>\n",
              "  <tbody>\n",
              "    <tr>\n",
              "      <th>0</th>\n",
              "      <td>1.0</td>\n",
              "      <td>0.0</td>\n",
              "      <td>1.0</td>\n",
              "      <td>0.0</td>\n",
              "      <td>0.0</td>\n",
              "      <td>1.0</td>\n",
              "    </tr>\n",
              "    <tr>\n",
              "      <th>1</th>\n",
              "      <td>1.0</td>\n",
              "      <td>2.0</td>\n",
              "      <td>3.0</td>\n",
              "      <td>4.0</td>\n",
              "      <td>6.0</td>\n",
              "      <td>9.0</td>\n",
              "    </tr>\n",
              "    <tr>\n",
              "      <th>2</th>\n",
              "      <td>1.0</td>\n",
              "      <td>4.0</td>\n",
              "      <td>5.0</td>\n",
              "      <td>16.0</td>\n",
              "      <td>20.0</td>\n",
              "      <td>25.0</td>\n",
              "    </tr>\n",
              "  </tbody>\n",
              "</table>\n",
              "</div>"
            ],
            "text/plain": [
              "     0    1    2     3     4     5\n",
              "0  1.0  0.0  1.0   0.0   0.0   1.0\n",
              "1  1.0  2.0  3.0   4.0   6.0   9.0\n",
              "2  1.0  4.0  5.0  16.0  20.0  25.0"
            ]
          },
          "metadata": {
            "tags": []
          },
          "execution_count": 65
        }
      ]
    }
  ]
}