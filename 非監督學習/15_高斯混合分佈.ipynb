{
  "nbformat": 4,
  "nbformat_minor": 0,
  "metadata": {
    "colab": {
      "name": "15.高斯混合分佈.ipynb",
      "provenance": [],
      "collapsed_sections": [],
      "authorship_tag": "ABX9TyOYRsy7z34mXekNlpREp/qn",
      "include_colab_link": true
    },
    "kernelspec": {
      "name": "python3",
      "display_name": "Python 3"
    },
    "language_info": {
      "name": "python"
    }
  },
  "cells": [
    {
      "cell_type": "markdown",
      "metadata": {
        "id": "view-in-github",
        "colab_type": "text"
      },
      "source": [
        "<a href=\"https://colab.research.google.com/github/GaryPython/-Machine-Learning/blob/main/%E9%9D%9E%E7%9B%A3%E7%9D%A3%E5%AD%B8%E7%BF%92/15_%E9%AB%98%E6%96%AF%E6%B7%B7%E5%90%88%E5%88%86%E4%BD%88.ipynb\" target=\"_parent\"><img src=\"https://colab.research.google.com/assets/colab-badge.svg\" alt=\"Open In Colab\"/></a>"
      ]
    },
    {
      "cell_type": "markdown",
      "metadata": {
        "id": "oHRnY2qSFNsT"
      },
      "source": [
        "# 高斯混合分佈"
      ]
    },
    {
      "cell_type": "markdown",
      "metadata": {
        "id": "ifQvcwXMF9a6"
      },
      "source": [
        "\n",
        "\n",
        "*   分群\n",
        ">機率分佈-高斯分佈又稱「常態分配」（Gaussian Distribution）\n",
        ">\n",
        ">多個線性分佈組成，呈現資料分佈情況：\n",
        ">>資料中心的平均數\n",
        ">>\n",
        ">>分散情況的變異數\n",
        "\n",
        "* 步驟：\n",
        "\n",
        "1.   初始化參數（高斯分配的「平均數」與「變異數」）\n",
        "2.   計算各類別中資料點的「權重」\n",
        "3.   根據步驟 2 算出權重，重新計算參數\n",
        "4.   重複步驟 2 和 3 ，直到步驟3算出的平均數趨於不變\n",
        "\n",
        "* 比較：\n",
        "\n",
        "    高斯混合分佈 vs K-means\n",
        "\n",
        "    高斯混合分佈：適合橢圓形\n",
        "\n",
        "    K-means :適合以重心為中心的圓形\n",
        "\n"
      ]
    },
    {
      "cell_type": "code",
      "metadata": {
        "colab": {
          "base_uri": "https://localhost:8080/"
        },
        "id": "AwlbpkS7IjIz",
        "outputId": "ddaf6d25-afaf-4e7f-b3ed-fbd34bf91663"
      },
      "source": [
        "from sklearn.datasets import load_iris\n",
        "from sklearn.mixture import GaussianMixture\n",
        "\n",
        "\n",
        "data = load_iris()\n",
        "n_components = 3 #高斯分佈數量\n",
        "model = GaussianMixture(n_components=n_components)\n",
        "model.fit(data.data) \n",
        "print(model.predict(data.data)) # 預測分類\n",
        "print(model.means_) # 各高斯分佈的平均\n",
        "print(model.covariances_) # 各高斯分佈的變異數"
      ],
      "execution_count": null,
      "outputs": [
        {
          "output_type": "stream",
          "text": [
            "[1 1 1 1 1 1 1 1 1 1 1 1 1 1 1 1 1 1 1 1 1 1 1 1 1 1 1 1 1 1 1 1 1 1 1 1 1\n",
            " 1 1 1 1 1 1 1 1 1 1 1 1 1 0 0 0 0 0 0 0 0 0 0 0 0 0 0 0 0 0 0 2 0 2 0 2 0\n",
            " 0 0 0 2 0 0 0 0 0 2 0 0 0 0 0 0 0 0 0 0 0 0 0 0 0 0 2 2 2 2 2 2 2 2 2 2 2\n",
            " 2 2 2 2 2 2 2 2 2 2 2 2 2 2 2 2 2 2 2 2 2 2 2 2 2 2 2 2 2 2 2 2 2 2 2 2 2\n",
            " 2 2]\n",
            "[[5.91697517 2.77803998 4.20523542 1.29841561]\n",
            " [5.006      3.428      1.462      0.246     ]\n",
            " [6.54632887 2.94943079 5.4834877  1.98716063]]\n",
            "[[[0.27550587 0.09663458 0.18542939 0.05476915]\n",
            "  [0.09663458 0.09255531 0.09103836 0.04299877]\n",
            "  [0.18542939 0.09103836 0.20227635 0.0616792 ]\n",
            "  [0.05476915 0.04299877 0.0616792  0.03232217]]\n",
            "\n",
            " [[0.121765   0.097232   0.016028   0.010124  ]\n",
            "  [0.097232   0.140817   0.011464   0.009112  ]\n",
            "  [0.016028   0.011464   0.029557   0.005948  ]\n",
            "  [0.010124   0.009112   0.005948   0.010885  ]]\n",
            "\n",
            " [[0.38741443 0.09223101 0.30244612 0.06089936]\n",
            "  [0.09223101 0.11040631 0.08386768 0.0557538 ]\n",
            "  [0.30244612 0.08386768 0.32595958 0.07283247]\n",
            "  [0.06089936 0.0557538  0.07283247 0.08488025]]]\n"
          ],
          "name": "stdout"
        }
      ]
    }
  ]
}