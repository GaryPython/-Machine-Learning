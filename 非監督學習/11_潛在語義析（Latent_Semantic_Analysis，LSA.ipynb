{
  "nbformat": 4,
  "nbformat_minor": 0,
  "metadata": {
    "colab": {
      "name": "11.潛在語義析（Latent Semantic Analysis，LSA）.ipynb",
      "provenance": [],
      "collapsed_sections": [],
      "authorship_tag": "ABX9TyMm/0v148qbphURTwINQ9PU",
      "include_colab_link": true
    },
    "kernelspec": {
      "name": "python3",
      "display_name": "Python 3"
    },
    "language_info": {
      "name": "python"
    }
  },
  "cells": [
    {
      "cell_type": "markdown",
      "metadata": {
        "id": "view-in-github",
        "colab_type": "text"
      },
      "source": [
        "<a href=\"https://colab.research.google.com/github/GaryPython/-Machine-Learning/blob/main/%E9%9D%9E%E7%9B%A3%E7%9D%A3%E5%AD%B8%E7%BF%92/11_%E6%BD%9B%E5%9C%A8%E8%AA%9E%E7%BE%A9%E6%9E%90%EF%BC%88Latent_Semantic_Analysis%EF%BC%8CLSA.ipynb\" target=\"_parent\"><img src=\"https://colab.research.google.com/assets/colab-badge.svg\" alt=\"Open In Colab\"/></a>"
      ]
    },
    {
      "cell_type": "markdown",
      "metadata": {
        "id": "NDbD_qGq_9p4"
      },
      "source": [
        "#潛在語義析（Latent Semantic Analysis，LSA） "
      ]
    },
    {
      "cell_type": "markdown",
      "metadata": {
        "id": "iFNvYj2VBD3r"
      },
      "source": [
        "\n",
        "\n",
        "*   降維\n",
        ">自然語言、廣泛運用在資料搜尋領域\n",
        ">\n",
        ">從龐大的文字資料中個詞彙所擁有的「關聯」\n",
        "\n",
        "\n"
      ]
    },
    {
      "cell_type": "code",
      "metadata": {
        "colab": {
          "base_uri": "https://localhost:8080/"
        },
        "id": "tVtisbMSBDe1",
        "outputId": "6e50d8e7-c511-4b72-b6fe-3567b9d7117b"
      },
      "source": [
        "from sklearn.decomposition import TruncatedSVD\n",
        "\n",
        "\n",
        "data = [[1, 0, 0, 0],\n",
        "[1, 0, 0, 0],\n",
        "[1, 1, 0, 0],\n",
        "[0, 1, 0, 0],\n",
        "[0, 0, 1, 1],\n",
        "[0, 0, 1, 0],\n",
        "[0, 0, 1, 1],\n",
        "[0, 0, 0, 1]]\n",
        "n_components = 2 #潛在變數\n",
        "model = TruncatedSVD(n_components=n_components)\n",
        "model.fit(data)\n",
        "print(model.transform(data)) #轉換後的資料\n",
        "print(model.explained_variance_ratio_) # 貢獻率 \n",
        "print(sum(model.explained_variance_ratio_)) # 累積貢獻率"
      ],
      "execution_count": null,
      "outputs": [
        {
          "output_type": "stream",
          "text": [
            "[[ 0.00000000e+00  8.50650808e-01]\n",
            " [ 0.00000000e+00  8.50650808e-01]\n",
            " [-1.35973996e-15  1.37638192e+00]\n",
            " [-1.35973996e-15  5.25731112e-01]\n",
            " [ 1.41421356e+00  1.01096131e-15]\n",
            " [ 7.07106781e-01  4.04384525e-16]\n",
            " [ 1.41421356e+00  1.01096131e-15]\n",
            " [ 7.07106781e-01  6.06576787e-16]]\n",
            "[0.38596491 0.27999429]\n",
            "0.6659592065833301\n"
          ],
          "name": "stdout"
        }
      ]
    }
  ]
}